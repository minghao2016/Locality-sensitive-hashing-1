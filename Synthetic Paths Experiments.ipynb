{
 "cells": [
  {
   "cell_type": "code",
   "execution_count": 160,
   "metadata": {
    "autoscroll": "json-false",
    "collapsed": false,
    "ein.tags": [
     "worksheet-0"
    ],
    "slideshow": {
     "slide_type": "-"
    }
   },
   "outputs": [
    {
     "name": "stdout",
     "output_type": "stream",
     "text": [
      "The autoreload extension is already loaded. To reload it, use:\n",
      "  %reload_ext autoreload\n"
     ]
    }
   ],
   "source": [
    "%load_ext autoreload\n",
    "%autoreload 2\n",
    "%matplotlib inline\n",
    "\n",
    "import numpy as np\n",
    "from matplotlib import pyplot as plt\n",
    "\n",
    "from generate_paths import random_path, noise_path\n",
    "from set_lsh import SetLSH, jaccard\n"
   ]
  },
  {
   "cell_type": "code",
   "execution_count": 128,
   "metadata": {
    "autoscroll": "json-false",
    "collapsed": false,
    "ein.tags": [
     "worksheet-0"
    ],
    "slideshow": {
     "slide_type": "-"
    }
   },
   "outputs": [],
   "source": [
    "def plot_paths(paths):\n",
    "    for path in paths:\n",
    "        xs, ys = zip(*path)\n",
    "        plt.plot(xs, ys)\n",
    "        \n",
    "    plt.ylim(0, 20)\n",
    "    plt.xlim(0, 20)\n",
    "    plt.show()"
   ]
  },
  {
   "cell_type": "code",
   "execution_count": 201,
   "metadata": {
    "autoscroll": "json-false",
    "collapsed": false,
    "ein.tags": [
     "worksheet-0"
    ],
    "slideshow": {
     "slide_type": "-"
    }
   },
   "outputs": [
    {
     "data": {
      "image/png": "[encoded data removed]",
      "text/plain": [
       "<matplotlib.figure.Figure at 0x7f4ddb454250>"
      ]
     },
     "metadata": {},
     "output_type": "display_data"
    }
   ],
   "source": [
    "# Generate paths\n",
    "paths = [random_path(5, 17, 20) for _ in range(200)]\n",
    "\n",
    "# Add noise to paths\n",
    "def noise_fn():\n",
    "    return int(np.random.normal(0, 0.7)), int(np.random.normal(0, 0.7))\n",
    "noisy_paths = [noise_path(path, noise_fn) for path in paths]\n",
    "\n",
    "# Plot paths\n",
    "#plot_paths(paths)\n",
    "#plot_paths(noisy_paths)\n",
    "\n",
    "# Turn paths into sets\n",
    "paths_set = map(set, paths)\n",
    "noisy_paths_set = map(set, noisy_paths)\n",
    "\n",
    "# Histogram of jaccard distance between paths and noisy paths\n",
    "plt.hist([jaccard(paths_set[i], noisy_paths_set[i]) for i in range(len(paths_set))])\n",
    "plt.show()"
   ]
  },
  {
   "cell_type": "code",
   "execution_count": 202,
   "metadata": {
    "autoscroll": "json-false",
    "collapsed": false,
    "ein.tags": [
     "worksheet-0"
    ],
    "slideshow": {
     "slide_type": "-"
    }
   },
   "outputs": [
    {
     "data": {
      "image/png": "[encoded data removed]",
      "text/plain": [
       "<matplotlib.figure.Figure at 0x7f4ddaa14d10>"
      ]
     },
     "metadata": {},
     "output_type": "display_data"
    }
   ],
   "source": [
    "# Create LSH\n",
    "lsh = SetLSH(10, 6)\n",
    "\n",
    "# Add non-noisy paths into hash\n",
    "for path in paths_set:\n",
    "    lsh.insert(path)\n",
    "\n",
    "# Stores how different is the Jaccard distance between the retreived path and\n",
    "# original path\n",
    "dists = []\n",
    "\n",
    "for path, noisy_path in zip(paths_set, noisy_paths_set):\n",
    "    res, cost = lsh.query(noisy_path)\n",
    "    dists.append(jaccard(res, path))\n",
    "\n",
    "plt.hist(dists)\n",
    "plt.show()"
   ]
  }
 ],
 "metadata": {
  "kernelspec": {
   "display_name": "Python 2",
   "language": "python2",
   "name": "python2"
  },
  "language_info": {
   "codemirror_mode": {
    "name": "ipython",
    "version": 2
   },
   "file_extension": ".py",
   "mimetype": "text/x-python",
   "name": "python",
   "nbconvert_exporter": "python",
   "pygments_lexer": "ipython2",
   "version": "2.7.12"
  },
  "name": "Sandbox.ipynb"
 },
 "nbformat": 4,
 "nbformat_minor": 1
}

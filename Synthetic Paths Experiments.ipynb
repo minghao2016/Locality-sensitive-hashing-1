{
 "cells": [
  {
   "cell_type": "code",
   "execution_count": 112,
   "metadata": {
    "autoscroll": "json-false",
    "collapsed": false,
    "ein.tags": [
     "worksheet-0"
    ],
    "slideshow": {
     "slide_type": "-"
    }
   },
   "outputs": [
    {
     "name": "stdout",
     "output_type": "stream",
     "text": [
      "The autoreload extension is already loaded. To reload it, use:\n",
      "  %reload_ext autoreload\n"
     ]
    }
   ],
   "source": [
    "%load_ext autoreload\n",
    "%autoreload 2\n",
    "%matplotlib inline\n",
    "\n",
    "import numpy as np\n",
    "from matplotlib import pyplot as plt\n",
    "\n",
    "from generate_paths import random_path, noise_path\n",
    "from set_lsh import SetLSH, jaccard\n"
   ]
  },
  {
   "cell_type": "code",
   "execution_count": 128,
   "metadata": {
    "autoscroll": "json-false",
    "collapsed": false,
    "ein.tags": [
     "worksheet-0"
    ],
    "slideshow": {
     "slide_type": "-"
    }
   },
   "outputs": [],
   "source": [
    "def plot_paths(paths):\n",
    "    for path in paths:\n",
    "        xs, ys = zip(*path)\n",
    "        plt.plot(xs, ys)\n",
    "        \n",
    "    plt.ylim(0, 20)\n",
    "    plt.xlim(0, 20)\n",
    "    plt.show()\n",
    "\n",
    "def generate_paths(min_len, max_len, max_coord, n, noise):\n",
    "    # Generate paths\n",
    "    paths = [random_path(min_len, max_len, max_coord) for _ in range(n)]\n",
    "    \n",
    "    # Add noise to paths\n",
    "    def noise_fn():\n",
    "        return int(np.random.normal(0, noise)), int(np.random.normal(0, noise))\n",
    "    noisy_paths = [noise_path(path, noise_fn) for path in paths]\n",
    "\n",
    "    return paths, noisy_paths\n",
    "\n",
    "def lsh_experiment(b, k, paths=None, noisy_paths=None, compare=None):\n",
    "    # Create LSH\n",
    "    lsh = SetLSH(b, k)\n",
    "    \n",
    "    # Add non-noisy paths into hash\n",
    "    for path in paths_set:\n",
    "        lsh.insert(path)\n",
    "    \n",
    "    # Stores how different is the Jaccard distance between the retreived path and\n",
    "    # original path\n",
    "    dists, costs = [], []\n",
    "    \n",
    "    paths = paths or paths_set\n",
    "    noisy_paths = noisy_paths or noisy_paths_set\n",
    "    compare = compare or paths_set\n",
    "    \n",
    "    for path, noisy_path, comp in zip(paths, noisy_paths, compare):\n",
    "        res, cost = lsh.query(noisy_path)\n",
    "        dists.append(jaccard(res, comp))\n",
    "        costs.append(cost)\n",
    "\n",
    "    return dists, costs\n",
    "\n",
    "def add_noise(paths):\n",
    "    new_paths = []\n",
    "    for path in paths:\n",
    "        new_path = set()\n",
    "        for x, y in path:\n",
    "            new_path.update([(x, y), (x+1, y), (x, y+1), (x-1, y), (x, y-1),\n",
    "                             (x+2, y), (x, y+2), (x-2, y), (x, y-2),\n",
    "                             (x+1, y+1), (x+1, y-1), (x-1, y+1), (x-1, y-1),\n",
    "                            ])\n",
    "        new_paths.append(new_path)\n",
    "    return new_paths\n",
    "\n",
    "def count(lst):\n",
    "    return sum(d == 1 for d in lst)"
   ]
  },
  {
   "cell_type": "code",
   "execution_count": 113,
   "metadata": {
    "autoscroll": "json-false",
    "collapsed": false,
    "ein.tags": [
     "worksheet-0"
    ],
    "slideshow": {
     "slide_type": "-"
    }
   },
   "outputs": [
    {
     "data": {
      "image/png": "[encoded data removed]",
      "text/plain": [
       "<matplotlib.figure.Figure at 0x7fb5714f32d0>"
      ]
     },
     "metadata": {},
     "output_type": "display_data"
    }
   ],
   "source": [
    "paths, noisy_paths = generate_paths(10, 25, 30, 500, 2.5)\n",
    "\n",
    "# Plot paths\n",
    "#plot_paths(paths)\n",
    "#plot_paths(noisy_paths)\n",
    "\n",
    "# Turn paths into sets\n",
    "paths_set = map(set, paths)\n",
    "noisy_paths_set = map(set, noisy_paths)\n",
    "\n",
    "# Histogram of jaccard distance between paths and noisy paths\n",
    "plt.hist([jaccard(paths_set[i], noisy_paths_set[i]) for i in range(len(paths_set))])\n",
    "plt.show()"
   ]
  },
  {
   "cell_type": "code",
   "execution_count": 0,
   "metadata": {
    "autoscroll": "json-false",
    "collapsed": false,
    "ein.tags": [
     "worksheet-0"
    ],
    "slideshow": {
     "slide_type": "-"
    }
   },
   "outputs": [],
   "source": [
    "i = 60\n",
    "plot_paths([paths[i]])\n",
    "plot_paths([noisy_paths[i]])"
   ]
  },
  {
   "cell_type": "code",
   "execution_count": 0,
   "metadata": {
    "autoscroll": "json-false",
    "collapsed": false,
    "ein.tags": [
     "worksheet-0"
    ],
    "slideshow": {
     "slide_type": "-"
    }
   },
   "outputs": [],
   "source": [
    "dists, costs = lsh_experiment(5, 1)\n",
    "plt.hist(dists)\n",
    "plt.show()\n",
    "plt.hist(costs)\n",
    "plt.show()"
   ]
  },
  {
   "cell_type": "code",
   "execution_count": 121,
   "metadata": {
    "autoscroll": "json-false",
    "collapsed": false,
    "ein.tags": [
     "worksheet-0"
    ],
    "slideshow": {
     "slide_type": "-"
    }
   },
   "outputs": [
    {
     "data": {
      "image/png": "[encoded data removed]",
      "text/plain": [
       "<matplotlib.figure.Figure at 0x7fb57007d950>"
      ]
     },
     "metadata": {},
     "output_type": "display_data"
    }
   ],
   "source": [
    "vals = [(1, 24), (2, 12), (3, 8), (4, 6), (6, 4), (8, 3), (12, 2), (24, 1)]\n",
    "vals = [(10*i, 1) for i in range(5)]\n",
    "matches = []\n",
    "\n",
    "for b, k in vals:\n",
    "    dists, costs = lsh_experiment(b, k)\n",
    "    matches.append(count(dists))\n",
    "\n",
    "x = range(len(vals))\n",
    "plt.bar(x, matches)\n",
    "plt.xticks(x, vals)\n",
    "plt.show()"
   ]
  },
  {
   "cell_type": "code",
   "execution_count": 129,
   "metadata": {
    "autoscroll": "json-false",
    "collapsed": false,
    "ein.tags": [
     "worksheet-0"
    ],
    "slideshow": {
     "slide_type": "-"
    }
   },
   "outputs": [
    {
     "name": "stdout",
     "output_type": "stream",
     "text": [
      "224\n"
     ]
    },
    {
     "name": "stdout",
     "output_type": "stream",
     "text": [
      "225\n"
     ]
    },
    {
     "name": "stdout",
     "output_type": "stream",
     "text": [
      "303\n"
     ]
    },
    {
     "name": "stdout",
     "output_type": "stream",
     "text": [
      "301\n"
     ]
    }
   ],
   "source": [
    "pn = add_noise(paths_set)\n",
    "npn = add_noise(noisy_paths_set)\n",
    "\n",
    "#plt.hist(lsh_experiment(20, 1)[1])\n",
    "#plt.show()\n",
    "#plt.hist(lsh_experiment(20, 1, paths=pn, compare=paths_set)[1])\n",
    "#plt.show()\n",
    "#plt.hist(lsh_experiment(20, 1, noisy_paths=npn, compare=paths_set)[1])\n",
    "#plt.show()\n",
    "#plt.hist(lsh_experiment(20, 1, paths=pn, noisy_paths=npn, compare=paths_set)[1])\n",
    "#plt.show()\n",
    "\n",
    "print count(lsh_experiment(20, 1)[0])\n",
    "print count(lsh_experiment(20, 1, paths=pn, compare=paths_set)[0])\n",
    "print count(lsh_experiment(20, 1, noisy_paths=npn, compare=paths_set)[0])\n",
    "print count(lsh_experiment(20, 1, paths=pn, noisy_paths=npn, compare=paths_set)[0])"
   ]
  }
 ],
 "metadata": {
  "kernelspec": {
   "display_name": "Python 2",
   "name": "python2"
  },
  "language_info": {
   "codemirror_mode": {
    "name": "ipython",
    "version": 2
   },
   "file_extension": ".py",
   "mimetype": "text/x-python",
   "name": "python",
   "nbconvert_exporter": "python",
   "pygments_lexer": "ipython2",
   "version": "2.7.12"
  },
  "name": "Synthetic Paths Experiments.ipynb"
 },
 "nbformat": 4,
 "nbformat_minor": 1
}

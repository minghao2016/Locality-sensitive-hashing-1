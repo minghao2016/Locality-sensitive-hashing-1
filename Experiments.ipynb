{
 "cells": [
  {
   "cell_type": "code",
   "execution_count": 1,
   "metadata": {
    "collapsed": false,
    "tags": [
     "worksheet-0"
    ]
   },
   "outputs": [],
   "source": [
    "import numpy as np\n",
    "from matplotlib import pyplot as plt\n",
    "%matplotlib inline\n",
    "%load_ext autoreload"
   ]
  },
  {
   "cell_type": "markdown",
   "metadata": {
    "collapsed": true,
    "tags": [
     "worksheet-0"
    ]
   },
   "source": [
    "Here we graph the probability of a pair of sets with Jacquard distance $p$ ending up in the list of final comparisons:\n",
    "\n",
    "$$f(p) = 1-(1-p^k)^b$$\n",
    "\n",
    "We also graph the probability threshold, which is the inflection point in this function. It is given by:\n",
    "\n",
    "$$\\frac{d^2f}{dp^2} = 0$$\n",
    "$$\\left( \\frac{(b-1)k}{k-1} + 1\\right)^{-1/k} \\approx b^{-1/k}$$\n"
   ]
  },
  {
   "cell_type": "code",
   "execution_count": 2,
   "metadata": {
    "collapsed": false,
    "tags": [
     "worksheet-0"
    ]
   },
   "outputs": [
    {
     "data": {
      "text/plain": [
       "<matplotlib.figure.Figure at 0x7f45d05a1510>"
      ]
     },
     "metadata": {},
     "output_type": "display_data"
    },
    {
     "name": "stdout",
     "output_type": "stream",
     "text": [
      "0.651802789631 0.6776109134\n"
     ]
    }
   ],
   "source": [
    "b = 7\n",
    "k = 5\n",
    "f = lambda p: 1 - (1 - p**k)**b\n",
    "threshold = ((b-1)*k/float(k-1)+1)**(-1.0/k)\n",
    "print threshold, b**(-1.0/k)\n",
    "\n",
    "x = np.linspace(0, 1, 100)\n",
    "y = f(x)\n",
    "plt.plot(x, y)\n",
    "plt.axvline(x=threshold)\n",
    "plt.show()"
   ]
  },
  {
   "cell_type": "code",
   "execution_count": 78,
   "metadata": {
    "collapsed": false,
    "tags": [
     "worksheet-0"
    ]
   },
   "outputs": [],
   "source": [
    "import set_lsh as s\n",
    "reload(s)\n",
    "minhash = s.make_minhash(s.hash_family(s.default_gen, 10))"
   ]
  },
  {
   "cell_type": "code",
   "execution_count": 82,
   "metadata": {
    "collapsed": false,
    "tags": [
     "worksheet-0"
    ]
   },
   "outputs": [
    {
     "name": "stdout",
     "output_type": "stream",
     "text": [
      "The slowest run took 12.47 times longer than the fastest. This could mean that an intermediate result is being cached \n",
      "1000000 loops, best of 3: 402 ns per loop\n"
     ]
    }
   ],
   "source": [
    "import hashlib\n",
    "a = hashlib.md5\n",
    "b = default_gen()\n",
    "\n",
    "%timeit a('12345').hexdigest\n",
    "\n",
    "%timeit a('12345').hexdigest"
   ]
  }
 ],
 "metadata": {
  "kernelspec": {
   "display_name": "Python 2",
   "language": "python",
   "name": "python2"
  },
  "language_info": {
   "codemirror_mode": {
    "name": "ipython",
    "version": 2
   },
   "file_extension": ".py",
   "mimetype": "text/x-python",
   "name": "python",
   "nbconvert_exporter": "python",
   "pygments_lexer": "ipython2",
   "version": "2.7.10"
  },
  "name": "Experiments.ipynb"
 },
 "nbformat": 4,
 "nbformat_minor": 0
}
